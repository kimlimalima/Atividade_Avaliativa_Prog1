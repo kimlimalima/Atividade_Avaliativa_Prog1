{
 "cells": [
  {
   "cell_type": "code",
   "execution_count": 2,
   "metadata": {},
   "outputs": [],
   "source": [
    "arquivo_tratado = []\n",
    "\n",
    "with open('C:\\\\Users\\\\kimli\\\\Desktop\\\\Atividade_Avaliativa\\\\Códigos\\\\Primeira_Questão\\\\dados_usuario.csv', encoding = 'utf-8') as file:\n",
    "    for linha in file:\n",
    "        arquivo_tratado.append(linha.strip().split(','))"
   ]
  },
  {
   "cell_type": "markdown",
   "metadata": {},
   "source": [
    "a) Construa uma função com o parâmetro nome. Retorne a quantidade e uma lista com\n",
    "os registros cujo o name inicie com o valor do parâmetro nome. Se nenhum argumento\n",
    "for passado para o parâmetro nome, então considere como valor default uma string\n",
    "vazia."
   ]
  },
  {
   "cell_type": "code",
   "execution_count": null,
   "metadata": {},
   "outputs": [],
   "source": [
    "def procuraNome(nome = ' '):\n",
    "        \"\"\"\n",
    "        Documento lido: (dados_usuario.csv)\n",
    "\n",
    "        Apresenta a quantidade e uma lista com os registros cujo a culuna name do documento inicie com o valor do parâmetro nome.\n",
    "\n",
    "        Arguments:\n",
    "        nome : Uma string. Default valor = ' ' (string vazia)\n",
    "\n",
    "        Returns:\n",
    "        Retorna a quantidade de aparições de nome e uma lista com suas aparições.\n",
    "        \"\"\"\n",
    "        try:\n",
    "                lista = []\n",
    "                contador = 0\n",
    "                for linhas in arquivo_tratado:\n",
    "                        if nome in linhas[3]:\n",
    "                                print(linhas[3])\n",
    "                                lista.append(linhas)\n",
    "                                contador += 1\n",
    "                return contador, lista\n",
    "        \n",
    "        except ValueError:\n",
    "                print('Valor inválido')\n",
    "        except TypeError:\n",
    "                print('Tipo de variavel inválida')"
   ]
  },
  {
   "cell_type": "markdown",
   "metadata": {},
   "source": [
    "b) Construa uma função com os parâmetros ano e sexo. Retorne a quantidade de\n",
    "registros com gender igual ao valor do parâmetro sexo e year com o valor maior ou igual\n",
    "ao valor do parâmetro ano. Se alguns dos parâmetros não receberem argumentos\n",
    "adequados, você deve informar uma mensagem de erro personalizada e retornar None."
   ]
  },
  {
   "cell_type": "code",
   "execution_count": 4,
   "metadata": {},
   "outputs": [
    {
     "name": "stdout",
     "output_type": "stream",
     "text": [
      "0 []\n"
     ]
    }
   ],
   "source": [
    "def quantidadeGender(ano, sexo):\n",
    "        \"\"\"\n",
    "        Documento lido: (dados_usuario.csv)\n",
    "\n",
    "        Dada a passagem de argumentos para os parâmetros 'ano' e 'sexo' da função:\n",
    "        Apresenta a quantidade de vezes que índices da coluna gender são iguais ao argumento passado para sexo e \n",
    "        year tem um valor maior ou igual ao parâmetro ano.\n",
    "        \n",
    "        Apresenta:\n",
    "                gender = Igual ao valor do parâmetro sexo\n",
    "                year = Com o valor maior ou igual ao valor do parâmetro ano.\n",
    "\n",
    "        Arguments:\n",
    "                ano : Uma String. Agumento passado pelo usuário\n",
    "                sexo: Uma String. Argumento passado pelo usuário. Deve conter uma string maiúscula\n",
    "\n",
    "        Returns:\n",
    "                Retorna a quantidade e uma lista referente as aparições dos resultados que se adequam aos requisitos constados acima \n",
    "        \"\"\"\n",
    "        try:\n",
    "                \n",
    "                if type(sexo) != str: raise TypeError\n",
    "                if ano < 0 and sexo != 'F' and sexo != \"M\": raise ValueError\n",
    "                lista = []\n",
    "                contador = 0\n",
    "                sexo = sexo.capitalize()\n",
    "                print(sexo)\n",
    "                for linhas in arquivo_tratado:\n",
    "                        if sexo in linhas[2]:\n",
    "                                if str(ano) <= linhas[1]:\n",
    "                                        lista.append(linhas)\n",
    "                                        contador += 1\n",
    "                return contador, lista\n",
    "        except TypeError:\n",
    "                print('Tipo de valor inválido')\n",
    "        except ValueError: \n",
    "                print('Valor inválido')"
   ]
  },
  {
   "cell_type": "markdown",
   "metadata": {},
   "source": [
    "c) Construa uma função com parâmetro arg. Retorne uma lista com todos registros em\n",
    "que alguma de suas informações tenha o valor do parâmetro arg como substring."
   ]
  },
  {
   "cell_type": "code",
   "execution_count": null,
   "metadata": {},
   "outputs": [],
   "source": [
    "def substringARG(arg = ' '):\n",
    "        \"\"\"\n",
    "                Documento lido: (dados_usuario.csv)\n",
    "\n",
    "                        Dada a passagem de um argumento para o parâmetro 'arg' da função:\n",
    "                        Apresenta a quantidade e uma lista de aparecimentos da substring do mesmo.\n",
    "\n",
    "                Arguments:\n",
    "                        \n",
    "                        arg : uma string. Passado pelo usuário\n",
    "                        \n",
    "\n",
    "                Returns:\n",
    "                        Retorna a quantidade e uma lista de aparecimentos da substring do mesmo.\n",
    "        \"\"\"\n",
    "        try:\n",
    "                if type(arg) != str: raise Exception('Tipo de argumento inválido')\n",
    "                lista = []\n",
    "                contador = 0\n",
    "                for linha in arquivo_tratado:\n",
    "                        for argumento_do_arquivo in linha:\n",
    "                                if arg in argumento_do_arquivo:\n",
    "                                        lista.append(linha)\n",
    "                                        contador += 1\n",
    "                return contador, lista\n",
    "        except Exception as e:\n",
    "                print(e)"
   ]
  },
  {
   "cell_type": "markdown",
   "metadata": {},
   "source": [
    "d) Construa uma função com o parâmetro numero. Retorne uma lista com os Ids dos\n",
    "registros que possuem o number igual ao valor do parâmetro numero."
   ]
  },
  {
   "cell_type": "code",
   "execution_count": null,
   "metadata": {},
   "outputs": [],
   "source": [
    "def procuraNumero(numero):\n",
    "        \"\"\"\n",
    "        Documento lido: (dados_usuario.csv)\n",
    "\n",
    "                Dada a passagem de um argumento para o parâmetro 'numero' da função:\n",
    "                Apresenta uma lista de com os Ids dos registros que possuem a coluna {number} do arquivo com valores iguais ao parâmetro {numero}.\n",
    "\n",
    "        Arguments:\n",
    "                numero : Uma string. Atríbuida pelo usuário.\n",
    "\n",
    "        Returns:\n",
    "                Retorna uma lista com aparições de linhas com a coluna {number} iguais ao parâmetro passado.\n",
    "                \n",
    "        \"\"\"\n",
    "        try:\n",
    "                if int(numero) < 0: raise Exception(\"Valor inválido\")\n",
    "                if type(numero) != int and type(numero) != str: raise Exception('Tipo de argumento inválido')\n",
    "                lista = []\n",
    "                contador = 0\n",
    "                for linhas in arquivo_tratado:\n",
    "                        if str(numero) == linhas[4]:\n",
    "                                lista.append(linhas[0])\n",
    "                                contador += 1\n",
    "                return contador, lista\n",
    "        except Exception as e:\n",
    "                print(e)"
   ]
  },
  {
   "cell_type": "markdown",
   "metadata": {},
   "source": [
    "e) Construa uma função para salvar novos registros. A função deve ter os parâmetros\n",
    "nome, ano sexo, numero. O ID deve ser gerado automaticamente sendo igual ao valor\n",
    "do último ID registrado + 1."
   ]
  },
  {
   "cell_type": "code",
   "execution_count": 6,
   "metadata": {},
   "outputs": [],
   "source": [
    "def novo_cadastro(nome = ' ', ano = 0, sexo = ' ', numero =0):\n",
    "        \"\"\"\n",
    "        Documento lido: (dados_usuario.csv)\n",
    "\n",
    "        Dada a atríbuição múltipla de argumentos para os parâmetros {nome},{ano},{sexo} e {numero} da função:\n",
    "        É feita uma atualização do arquivo dados_usuario.csv, realizando assim a adição de uma nova linha no arquivo.\n",
    "        Assim que o código é executado com os parâmtros corretos, ocorre uma atualização do ID.\n",
    "\n",
    "        Arguments:\n",
    "            nome : Uma string. Atríbuida pelo usuário.\n",
    "            ano : Uma string. Atríbuida pelo usuário.\n",
    "            sexo : Uma string. Atríbuida pelo usuário.\n",
    "            numero : Uma string. Atríbuida pelo usuário.\n",
    "\n",
    "        Returns:\n",
    "                \n",
    "        \"\"\"\n",
    "        try:\n",
    "                if int(ano) <= 0: raise Exception('Valor inválido')\n",
    "                if type(ano) != int and type(ano) != str: raise Exception('Tipo de argumento inválido')\n",
    "                if int(numero) <= 0: raise Exception('Valor inválido')\n",
    "                if type(numero) != int and type(numero) != str: raise Exception('Tipo de argumento inválido')\n",
    "                if type(sexo) != str: raise Exception('Tipo de argumento inválido')\n",
    "                if type(nome) != str: raise Exception('Tipo de argumento inválido')\n",
    "                id = int(arquivo_tratado[-1][0])+1\n",
    "                with open('\\\\Users\\\\washi\\\\OneDrive\\\\Documentos\\\\aval\\\\Atividade_Avaliativa\\\\Códigos\\\\Primeira_Questão\\\\dados_usuario.csv','a', encoding ='utf-8') as file:\n",
    "                        file.write(f'{id},{nome},{ano},{sexo},{numero}\\n')\n",
    "        \n",
    "        except Exception as e :\n",
    "                print(e)"
   ]
  }
 ],
 "metadata": {
  "kernelspec": {
   "display_name": "Python 3.10.7 64-bit (microsoft store)",
   "language": "python",
   "name": "python3"
  },
  "language_info": {
   "codemirror_mode": {
    "name": "ipython",
    "version": 3
   },
   "file_extension": ".py",
   "mimetype": "text/x-python",
   "name": "python",
   "nbconvert_exporter": "python",
   "pygments_lexer": "ipython3",
   "version": "3.10.7"
  },
  "orig_nbformat": 4,
  "vscode": {
   "interpreter": {
    "hash": "d8f65bb8d5b429c9bb8f932167bfd7c070855ba4d611018c695492d543ff52a0"
   }
  }
 },
 "nbformat": 4,
 "nbformat_minor": 2
}

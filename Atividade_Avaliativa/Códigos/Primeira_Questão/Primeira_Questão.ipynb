{
 "cells": [
  {
   "cell_type": "code",
   "execution_count": 1,
   "metadata": {},
   "outputs": [],
   "source": [
    "arquivo_tratado = []\n",
    "\n",
    "with open('D:\\\\UFPA\\\\Prog I\\\\capitulos\\\\Atividade_Avaliativa\\\\dados_usuario.csv', encoding = 'utf-8') as file:\n",
    "    for linha in file:\n",
    "        arquivo_tratado.append(linha.strip().split(','))"
   ]
  },
  {
   "cell_type": "markdown",
   "metadata": {},
   "source": [
    "a) Construa uma função com o parâmetro nome. Retorne a quantidade e uma lista com\n",
    "os registros cujo o name inicie com o valor do parâmetro nome. Se nenhum argumento\n",
    "for passado para o parâmetro nome, então considere como valor default uma string\n",
    "vazia."
   ]
  },
  {
   "cell_type": "code",
   "execution_count": null,
   "metadata": {},
   "outputs": [],
   "source": [
    "def procuraNome(nome = ' '):\n",
    "        \"\"\"\n",
    "        Documento lido: (dados_usuario.csv)\n",
    "\n",
    "        Apresenta a quantidade e uma lista com os registros curja a culuna name do documento inicie com o valor do parâmetro nome.\n",
    "\n",
    "        Arguments:\n",
    "        nome : Uma string. Default valor = '' (string vazia)\n",
    "\n",
    "        Returns:\n",
    "        Retorna a quantidade de aparições de nome e uma lista com suas aparições.\n",
    "        \"\"\"\n",
    "        try:\n",
    "                lista = []\n",
    "                contador = 0\n",
    "                for linhas in arquivo_tratado:\n",
    "                        if nome in linhas[3]:\n",
    "                                lista.append(linhas)\n",
    "                                contador += 1\n",
    "                return contador, lista\n",
    "        \n",
    "        except:\n",
    "                print('EROOOOOOOOOOOOOOOUUUUUUUU')\n",
    "                \n",
    "contador, lista = procuraNome('Samuel')\n",
    "print(contador, lista)"
   ]
  },
  {
   "cell_type": "markdown",
   "metadata": {},
   "source": [
    "b) Construa uma função com os parâmetros ano e sexo. Retorne a quantidade de\n",
    "registros com gender igual ao valor do parâmetro sexo e year com o valor maior ou igual\n",
    "ao valor do parâmetro ano. Se alguns dos parâmetros não receberem argumentos\n",
    "adequados, você deve informar uma mensagem de erro personalizada e retornar None."
   ]
  },
  {
   "cell_type": "code",
   "execution_count": null,
   "metadata": {},
   "outputs": [],
   "source": [
    "def procuraNome(ano, sexo):\n",
    "        \"\"\"\n",
    "        Documento lido: (dados_usuario.csv)\n",
    "\n",
    "        Dada uma quantidade de registros\n",
    "        Apresenta:\n",
    "        gender = Igual ao valor do parâmetro sexo\n",
    "        year = Com o valor maior ou igual ao valor do parâmetro ano.\n",
    "\n",
    "        Arguments:\n",
    "                ano : Uma String\n",
    "                sexo: Uma String. Utilizando o método .capitalize()\n",
    "\n",
    "        Returns:\n",
    "                Retorna\n",
    "        \"\"\"\n",
    "        try:\n",
    "\n",
    "                lista = []\n",
    "                contador = 0\n",
    "                for linhas in arquivo_tratado:\n",
    "                        if sexo in linhas[2]:\n",
    "                                if ano <= linhas[1]:\n",
    "                                        lista.append(linhas)\n",
    "                                        contador += 1\n",
    "                return contador, lista\n",
    "        except:\n",
    "                print('Telascarmenó')\n",
    "                \n",
    "contador, lista = procuraNome('2002','M')\n",
    "print(contador, lista)\n"
   ]
  },
  {
   "cell_type": "markdown",
   "metadata": {},
   "source": [
    "c) Construa uma função com parâmetro arg. Retorne uma lista com todos registros em\n",
    "que alguma de suas informações tenha o valor do parâmetro arg como substring."
   ]
  },
  {
   "cell_type": "code",
   "execution_count": null,
   "metadata": {},
   "outputs": [],
   "source": [
    "def procuraNome(arg):\n",
    "        \"\"\"\n",
    "                Documento lido: (dados_usuario.csv)\n",
    "\n",
    "                        \n",
    "\n",
    "                Arguments:\n",
    "                        \n",
    "\n",
    "                Returns:\n",
    "                \n",
    "        \"\"\"\n",
    "        try:\n",
    "                lista = []\n",
    "                contador = 0\n",
    "                for linha in arquivo_tratado:\n",
    "                        for argumento_do_arquivo in linha:\n",
    "                                if str(arg) in argumento_do_arquivo:\n",
    "                                        lista.append(linha)\n",
    "                                        contador += 1\n",
    "                return contador, lista\n",
    "        except:\n",
    "                print('EROOOOOOOOOOOOOOOUUUUUUUU')\n",
    "                \n",
    "contador, lista = procuraNome('muel')\n",
    "print(contador, lista)\n"
   ]
  },
  {
   "cell_type": "markdown",
   "metadata": {},
   "source": [
    "d) Construa uma função com o parâmetro numero. Retorne uma lista com os Ids dos\n",
    "registros que possuem o number igual ao valor do parâmetro numero."
   ]
  },
  {
   "cell_type": "code",
   "execution_count": null,
   "metadata": {},
   "outputs": [],
   "source": [
    "def procuraNome(numero):\n",
    "        \"\"\"\n",
    "        Documento lido: (dados_usuario.csv)\n",
    "\n",
    "                \n",
    "\n",
    "        Arguments:\n",
    "                \n",
    "\n",
    "        Returns:\n",
    "                \n",
    "        \"\"\"\n",
    "        try:\n",
    "                lista = []\n",
    "                contador = 0\n",
    "                for linhas in arquivo_tratado:\n",
    "                        if numero == linhas[4]:\n",
    "                                lista.append(linhas)\n",
    "                                contador += 1\n",
    "                return contador, lista\n",
    "        except:\n",
    "                print('EROOOOOOOOOOOOOOOUUUUUUUU')\n",
    "                \n",
    "contador, lista = procuraNome('5')\n",
    "print(contador, lista)\n"
   ]
  },
  {
   "cell_type": "markdown",
   "metadata": {},
   "source": [
    "e) Construa uma função para salvar novos registros. A função deve ter os parâmetros\n",
    "nome, ano sexo, numero. O ID deve ser gerado automaticamente sendo igual ao valor\n",
    "do último ID registrado + 1."
   ]
  },
  {
   "cell_type": "code",
   "execution_count": 10,
   "metadata": {},
   "outputs": [],
   "source": [
    "def novo_cadastro(nome, ano, sexo, numero):\n",
    "        \"\"\"\n",
    "        Documento lido: (dados_usuario.csv)\n",
    "\n",
    "        Arguments:\n",
    "                \n",
    "\n",
    "        Returns:\n",
    "                \n",
    "        \"\"\"\n",
    "        try:\n",
    "            id = int(arquivo_tratado[-1][0])+1\n",
    "            with open('D:\\\\UFPA\\\\Prog I\\\\capitulos\\\\Atividade_Avaliativa\\\\dados_usuario.csv','a', encoding ='utf-8') as file:\n",
    "                file.write(f'{id},{nome},{ano},{sexo},{numero}\\n')\n",
    "                \n",
    "        except:\n",
    "            print('EROOOOOOOOOOOOOOOUUUUUUUU')\n",
    "\n",
    "novo_cadastro('Kim','2002','M','01')\n"
   ]
  }
 ],
 "metadata": {
  "kernelspec": {
   "display_name": "Python 3.10.7 64-bit (microsoft store)",
   "language": "python",
   "name": "python3"
  },
  "language_info": {
   "codemirror_mode": {
    "name": "ipython",
    "version": 3
   },
   "file_extension": ".py",
   "mimetype": "text/x-python",
   "name": "python",
   "nbconvert_exporter": "python",
   "pygments_lexer": "ipython3",
   "version": "3.10.7"
  },
  "orig_nbformat": 4,
  "vscode": {
   "interpreter": {
    "hash": "a017af0839fca48b0574844b137356479841758706a598e2320b121cc72c0bae"
   }
  }
 },
 "nbformat": 4,
 "nbformat_minor": 2
}

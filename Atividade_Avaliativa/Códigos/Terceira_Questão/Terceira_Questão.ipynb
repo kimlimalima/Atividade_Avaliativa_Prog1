{
 "cells": [
  {
   "cell_type": "markdown",
   "metadata": {},
   "source": [
    "\n",
    "\n",
    "Questão 03: Primos entre si\n"
   ]
  },
  {
   "cell_type": "markdown",
   "metadata": {},
   "source": [
    "a) Construa uma função que receba dois números inteiros e verifique se esses números\n",
    "são primos entre si. O retorno da função deve ser booleano."
   ]
  },
  {
   "cell_type": "code",
   "execution_count": 1,
   "metadata": {},
   "outputs": [],
   "source": [
    "# primeiroNumero = int(input('Primeiro Número: '))\n",
    "# segundoNumero  = int(input('Segundo Número:  '))\n",
    "\n",
    "def testeBoolPrimosEntreSi(primeiroNumero = int, segundoNumero = int):\n",
    "        \"\"\"\n",
    "\n",
    "        Dada a atribuíção de dois números inteiros maiores que zero:\n",
    "        Calcula-se e apresenta o resultado booleano se os mesmos são primos entre si\n",
    "                        \n",
    "\n",
    "        Arguments:\n",
    "                        primeiroNumero: Inteiro, maior que zero. Atribuído pelo usuário\n",
    "                        SegundoNumero: Inteiro, maior que zero. Atribuído pelo usuário\n",
    "\n",
    "        Returns:\n",
    "                Retorna o valor booleano do teste se os números atribuídos são primos entre si.\n",
    "                        \n",
    "        \"\"\"\n",
    "\n",
    "        if primeiroNumero == 0 or segundoNumero==0: return False\n",
    "\n",
    "        maior = segundoNumero\n",
    "        menor = primeiroNumero\n",
    "\n",
    "        if primeiroNumero > segundoNumero:\n",
    "                maior = primeiroNumero\n",
    "                menor = segundoNumero\n",
    "        for i in range(2, menor):\n",
    "                if menor%i==0 and maior%i==0:\n",
    "                        return False\n",
    "        return True\n",
    "# resultado = testeBoolPrimosEntreSi(primeiroNumero, segundoNumero)\n",
    "# print(resultado)\n"
   ]
  },
  {
   "cell_type": "markdown",
   "metadata": {},
   "source": [
    "b) Considerando a função da questão anterior, cria um laço de repetição que repita 1000\n",
    "vezes. Para cada interação, sorteie dois números entre 1 a 100 e verifique se os números\n",
    "sorteados são primos entre si. Crie um arquivo chamado primos_entre_si e, para cada\n",
    "sorteio, salve no arquivo os números sorteados e a informação SIM ou NÃO, dado o\n",
    "retorno booleano da função da questão anterior. O final da execução do programa,\n",
    "considerando os 1000 sorteios, você também deve informar a porcentagem de números\n",
    "que são primos entre si."
   ]
  },
  {
   "cell_type": "code",
   "execution_count": null,
   "metadata": {},
   "outputs": [],
   "source": [
    "from random import randrange\n",
    "localArquivo = 'C:\\\\Users\\\\kimli\\\\Desktop\\\\Atividade_Avaliativa\\\\Códigos\\\\Terceira_Questão\\\\primos_entre_si.txt'\n",
    "\n",
    "def sorteioPrimos(primeiroSorteado = int, segundoSorteado = int):\n",
    "        \"\"\"\n",
    "        Dada o sorteio de dois números inteiros maiores que zero:\n",
    "\n",
    "        Ocorre 1000 sorteios de dois números gerados aleatóriamente no intervalo de 1-100 em seguida:\n",
    "        Escreve em um arquivo {primos_entre_si.txt} SIM se a função {testeBoolPrimosEntreSi} retornar True e NÃO caso o contrário\n",
    "        Após isso é efetuado o cálculo da porcentagem referente a quantidade de aparições de numeros primos entre si\n",
    "\n",
    "        Arguments:\n",
    "                        \n",
    "\n",
    "        Returns:\n",
    "                Retorna a porcentagem equivalente a quantidade de valores iguais a 'SIM' contidas no arquivo {primos_entre_si.txt}\n",
    "                        \n",
    "        \"\"\"\n",
    "        with open(localArquivo, 'a', encoding='utf-8') as file:\n",
    "                        \n",
    "                for resultado in range(0,1000):\n",
    "\n",
    "                        primeiroSorteado = randrange(1,100)\n",
    "                        segundoSorteado = randrange(1,100)\n",
    "\n",
    "                        resultado = testeBoolPrimosEntreSi(primeiroSorteado, segundoSorteado)\n",
    "                        # print(resultado)\n",
    "\n",
    "\n",
    "                        if resultado == True:\n",
    "                                file.write('SIM \\n')\n",
    "                        else:\n",
    "                                file.write('NÃO \\n')\n",
    "                                \n",
    "        with open(localArquivo,'r', encoding='utf-8') as file:\n",
    "                percent = 0\n",
    "                for linha in file:               \n",
    "                        if 'SIM' in linha:\n",
    "                                percent += 1\n",
    "                        porcentagem = (percent/1000)*100\n",
    "\n",
    "        return porcentagem\n",
    "\n",
    "porcentagem = sorteioPrimos()\n",
    "print(porcentagem)"
   ]
  }
 ],
 "metadata": {
  "kernelspec": {
   "display_name": "Python 3.10.7 64-bit (microsoft store)",
   "language": "python",
   "name": "python3"
  },
  "language_info": {
   "codemirror_mode": {
    "name": "ipython",
    "version": 3
   },
   "file_extension": ".py",
   "mimetype": "text/x-python",
   "name": "python",
   "nbconvert_exporter": "python",
   "pygments_lexer": "ipython3",
   "version": "3.10.7"
  },
  "orig_nbformat": 4,
  "vscode": {
   "interpreter": {
    "hash": "a017af0839fca48b0574844b137356479841758706a598e2320b121cc72c0bae"
   }
  }
 },
 "nbformat": 4,
 "nbformat_minor": 2
}

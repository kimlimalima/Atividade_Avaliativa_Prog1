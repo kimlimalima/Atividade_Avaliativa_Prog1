{
 "cells": [
  {
   "cell_type": "markdown",
   "metadata": {},
   "source": [
    "Questão 02: Casamento de cadeia:"
   ]
  },
  {
   "cell_type": "markdown",
   "metadata": {},
   "source": [
    "a) Construa uma função com dois parâmetros chamados cadeia e padrao. A função deve\n",
    "retornar a quantidade de vezes que o valor armazenado em padrao aparece no\n",
    "conteúdo de cadeia."
   ]
  },
  {
   "cell_type": "code",
   "execution_count": 57,
   "metadata": {},
   "outputs": [
    {
     "name": "stdout",
     "output_type": "stream",
     "text": [
      "3\n"
     ]
    }
   ],
   "source": [
    "cadeia = 'ATGCCCCAACTAAATACCGCCGTATGACCCACCATAATTACCCCCATACTCCTGACACTATTTCTCGTCACCCAACTAAAAATATTAAATTCAAATTACCATCTACCCCCCTCACCAAAACCCATAAAAATAAAAAACTACAATAAACCCTGAGAACCAAAATGAACGAAAATCTATTCGCTTCATTCGCTGCCCCCACAATCCTAG'\n",
    "def procuraPadrao(cadeia, padrao):\n",
    "        \"\"\"\n",
    "        Documento lido: (dados_usuario.csv)\n",
    "\n",
    "                        \n",
    "\n",
    "        Arguments:\n",
    "                        \n",
    "\n",
    "        Returns:\n",
    "                        \n",
    "        \"\"\"\n",
    "        try:\n",
    "                tamanho = len(padrao)\n",
    "                contador = 0\n",
    "                for i in range(len(cadeia)):\n",
    "                        if cadeia[i:tamanho+i] == padrao:\n",
    "                                contador += 1\n",
    "                return contador\n",
    "        except:\n",
    "                print('EEEROUUUUUUUUUUUUUUUUUUUUUUU')\n",
    "restultado = procuraPadrao(cadeia,'ATG')\n",
    "print(restultado)"
   ]
  },
  {
   "cell_type": "markdown",
   "metadata": {},
   "source": [
    "b) Construa uma função com dois parâmetros chamados cadeia e padrao. A função deve\n",
    "retornar um valor booleano informando se o padrao está contido na caideia ou não."
   ]
  },
  {
   "cell_type": "code",
   "execution_count": 58,
   "metadata": {},
   "outputs": [
    {
     "name": "stdout",
     "output_type": "stream",
     "text": [
      "True\n"
     ]
    }
   ],
   "source": [
    "cadeia = 'ATGCCCCAACTAAATACCGCCGTATGACCCACCATAATTACCCCCATACTCCTGACACTATTTCTCGTCACCCAACTAAAAATATTAAATTCAAATTACCATCTACCCCCCTCACCAAAACCCATAAAAATAAAAAACTACAATAAACCCTGAGAACCAAAATGAACGAAAATCTATTCGCTTCATTCGCTGCCCCCACAATCCTAG'\n",
    "\n",
    "def TestboolPadrao(cadeia, padrao):\n",
    "        \"\"\"\n",
    "        Documento lido: (dados_usuario.csv)\n",
    "\n",
    "                        \n",
    "\n",
    "        Arguments:\n",
    "                        \n",
    "\n",
    "        Returns:\n",
    "                        \n",
    "        \"\"\"\n",
    "        \n",
    "        if padrao in cadeia:\n",
    "                return True\n",
    "        else:\n",
    "                return False\n",
    "\n",
    "resultado = TestboolPadrao(cadeia, 'ATG')\n",
    "print(resultado)"
   ]
  },
  {
   "cell_type": "markdown",
   "metadata": {},
   "source": [
    "c) Considerando o arquivo dados_DNA, construa uma função que leia os registros e, para\n",
    "cada registro, utilizando as funções das questões anteriores, passe os argumentos de\n",
    "forma nomeada, tal que, a cadeia corresponde a linha do arquivo e o padrao deve ser\n",
    "ATGCCA. Utilize o retorno das funções para criar e preencher, no arquivo dados_DNA,\n",
    "as colunas:\n",
    "\n",
    "• FREQ_ATGCCA\n",
    "• TEM_ ATGCCA"
   ]
  },
  {
   "cell_type": "code",
   "execution_count": 59,
   "metadata": {},
   "outputs": [],
   "source": [
    "def frequencia():\n",
    "    \"\"\"\n",
    "        Documento lido: (dados_usuario.csv)\n",
    "\n",
    "                        \n",
    "\n",
    "        Arguments:\n",
    "                        \n",
    "\n",
    "        Returns:\n",
    "                        \n",
    "    \"\"\"\n",
    "\n",
    "    with open('C:\\\\Users\\\\kimli\\\\Desktop\\\\Atividade_Avaliativa\\\\dados_DNA.txt',encoding='utf-8') as file:\n",
    "        linhas = file.readlines()\n",
    "\n",
    "    with open('C:\\\\Users\\\\kimli\\\\Desktop\\\\Atividade_Avaliativa\\\\dados_DNA.txt','w', encoding='utf-8') as file:\n",
    "        file.write('sequence,FREQ_ATGCCA,TEM_ATGCCA\\n')\n",
    "        for cadeia in linhas[1:]:\n",
    "            freq = procuraPadrao(cadeia, 'ATGCCA')\n",
    "            tem = TestboolPadrao(cadeia, 'ATGCCA')\n",
    "            file.write(f'{cadeia[:-1]},{freq},{tem}\\n')\n",
    "\n",
    "frequencia()"
   ]
  },
  {
   "cell_type": "markdown",
   "metadata": {},
   "source": [
    "d) Utilizando o arquivo dados_DNA já atualizado com as duas novas colunas, construa\n",
    "uma função que retorne a quantidade de sequências que não possui o padrão ATGCCA.\n",
    "Para isso, você deve utilizar os dados da coluna TEM_ ATGCCA."
   ]
  },
  {
   "cell_type": "code",
   "execution_count": 60,
   "metadata": {},
   "outputs": [],
   "source": [
    "arquivo_tratado = []\n",
    "\n",
    "with open('C:\\\\Users\\\\kimli\\\\Desktop\\\\Atividade_Avaliativa\\\\dados_DNA.txt', encoding = 'utf-8') as file:\n",
    "    for linha in file:\n",
    "        arquivo_tratado.append(linha.strip().split(','))"
   ]
  },
  {
   "cell_type": "code",
   "execution_count": null,
   "metadata": {},
   "outputs": [],
   "source": [
    "print(arquivo_tratado)"
   ]
  },
  {
   "cell_type": "code",
   "execution_count": 61,
   "metadata": {},
   "outputs": [
    {
     "data": {
      "text/plain": [
       "864"
      ]
     },
     "execution_count": 61,
     "metadata": {},
     "output_type": "execute_result"
    }
   ],
   "source": [
    "def naoPossuemPadrao():\n",
    "    \"\"\"\n",
    "        Documento lido: (dados_usuario.csv)\n",
    "\n",
    "                        \n",
    "\n",
    "        Arguments:\n",
    "                        \n",
    "\n",
    "        Returns:\n",
    "                        \n",
    "    \"\"\"\n",
    "    contador = 0\n",
    "    for linha in arquivo_tratado:\n",
    "        if linha[2] == 'False':\n",
    "            contador += 1\n",
    "    return contador\n",
    "naoPossuemPadrao()"
   ]
  },
  {
   "cell_type": "markdown",
   "metadata": {},
   "source": [
    "e) Utilizando o arquivo dados_DNA já atualizado com as duas novas colunas, construa\n",
    "uma função que retorne a frequência máxima que o padrão ATGCCA na base de dados.\n",
    "Para isso, você deve utilizar os dados da coluna FREQ_ ATGCCA."
   ]
  },
  {
   "cell_type": "code",
   "execution_count": 75,
   "metadata": {},
   "outputs": [
    {
     "data": {
      "text/plain": [
       "9"
      ]
     },
     "execution_count": 75,
     "metadata": {},
     "output_type": "execute_result"
    }
   ],
   "source": [
    "def maximoPadrao():\n",
    "    \"\"\"\n",
    "        Documento lido: (dados_DNA.txt)\n",
    "\n",
    "                        \n",
    "\n",
    "        Arguments:\n",
    "                        \n",
    "\n",
    "        Returns:\n",
    "                        \n",
    "    \"\"\"\n",
    "\n",
    "    valorMaior = []\n",
    "    for linha in arquivo_tratado[1:]:\n",
    "        valorTeste = int(linha[1])\n",
    "        if valorTeste > 0 :\n",
    "            valorMaior.append(valorTeste)\n",
    "    maior = max(valorMaior)\n",
    "\n",
    "    return maior\n",
    "\n",
    "maximoPadrao()"
   ]
  },
  {
   "cell_type": "markdown",
   "metadata": {},
   "source": [
    "f) Utilizando o arquivo dados_DNA já atualizado com as duas novas colunas e utilizando\n",
    "a função que retorna a frequência máxima do padrão FREQ_ ATGCCA, construa uma\n",
    "função que retorne uma lista contendo os índices das linhas que possuem a FREQ_\n",
    "ATGCCA igual ao valor máximo."
   ]
  },
  {
   "cell_type": "code",
   "execution_count": 78,
   "metadata": {},
   "outputs": [
    {
     "data": {
      "text/plain": [
       "[1349]"
      ]
     },
     "execution_count": 78,
     "metadata": {},
     "output_type": "execute_result"
    }
   ],
   "source": [
    "def frequenciaMaximaPadrao():\n",
    "    \"\"\"\n",
    "        Documento lido: (dados_DNA.txt)\n",
    "\n",
    "                        \n",
    "\n",
    "        Arguments:\n",
    "                        \n",
    "\n",
    "        Returns:\n",
    "              \n",
    "    \"\"\"\n",
    "    with open('C:\\\\Users\\\\kimli\\\\Desktop\\\\Atividade_Avaliativa\\\\dados_DNA.txt', encoding='utf-8') as file:\n",
    "        linhas_arquivo = file.readlines()[1:]\n",
    "\n",
    "        lista_index = []\n",
    "        frequencia_maxima = maximoPadrao()\n",
    "\n",
    "        for indices in range(len(linhas_arquivo)):\n",
    "            frequencia = int(linhas_arquivo[indices].split(',')[1])\n",
    "            \n",
    "            if frequencia == frequencia_maxima:\n",
    "                lista_index.append(indices)\n",
    "    return lista_index\n",
    "frequenciaMaximaPadrao()"
   ]
  }
 ],
 "metadata": {
  "kernelspec": {
   "display_name": "Python 3.10.7 64-bit (microsoft store)",
   "language": "python",
   "name": "python3"
  },
  "language_info": {
   "codemirror_mode": {
    "name": "ipython",
    "version": 3
   },
   "file_extension": ".py",
   "mimetype": "text/x-python",
   "name": "python",
   "nbconvert_exporter": "python",
   "pygments_lexer": "ipython3",
   "version": "3.10.7"
  },
  "orig_nbformat": 4,
  "vscode": {
   "interpreter": {
    "hash": "a017af0839fca48b0574844b137356479841758706a598e2320b121cc72c0bae"
   }
  }
 },
 "nbformat": 4,
 "nbformat_minor": 2
}
